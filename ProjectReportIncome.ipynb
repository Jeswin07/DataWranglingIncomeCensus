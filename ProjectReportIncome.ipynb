{
 "cells": [
  {
   "cell_type": "markdown",
   "id": "5f83555d",
   "metadata": {},
   "source": [
    "<h2 style='color:Tomato'>Project Report</h2>\n",
    "    \n",
    "<h2>Adult Census Income Analysis </h2>"
   ]
  },
  {
   "cell_type": "markdown",
   "id": "6146716d",
   "metadata": {},
   "source": [
    "<h3 style='color:green'>Project Overview</h3>\n",
    "\n",
    "This project is an **Exploratory Data Analysis (EDA)** of the Adult Census Income dataset extracted from the 1994 Census bureau database to understand patterns related to income above and below 50k. Processes performed were data cleaning, feature engineering, and insightful visualizations using Python libraries like Pandas and Matplotlib."
   ]
  },
  {
   "cell_type": "markdown",
   "id": "c82090f5",
   "metadata": {},
   "source": [
    "<h3 style='color:green'>Dataset Used</h3>\n",
    "\n",
    "The dataset used for this project is the **Adult Census Income** dataset from kaggle with 32537 rows and 15 columns, which contains informations such as age, workclass, fnlwgt, education, education.num, marital.status, occupation, relationship, race, sex, capital.gain, capital.loss, hours.per.week, native.country, income."
   ]
  },
  {
   "cell_type": "markdown",
   "id": "acb47c0c",
   "metadata": {},
   "source": [
    "<h3 style='color:green'>Data Cleaning</h3>\n",
    "\n",
    "The dataset was ensured clean and ready for analysis with the following steps:\n",
    "\n",
    "• Handle duplicate values :\n",
    "\n",
    "   24 Duplicate rows were found and dropped.\n",
    "\n",
    "• Filled missing values :\n",
    "\n",
    "   Occupation, Workclass and Native country : Replaced missing values with mode.\n",
    "\n",
    "• Renamed columns to improve clarity :\n",
    "\n",
    "   fnlwgt was renamed to final_weight\n",
    "\n",
    "• Standardized values :\n",
    "\n",
    "   Capitalized entries in the Sex column (e.g., male to Male)\n",
    "\n",
    "• Checked and confirmed no missing values."
   ]
  },
  {
   "cell_type": "markdown",
   "id": "dee484fd",
   "metadata": {},
   "source": [
    "<h3 style='color:green'>Feature Engineering</h3>\n",
    "\n",
    "New features were created to extract more meaningful insights.\n",
    "\n",
    " • Extracted net capital from capital gain and capital loss.\n",
    "\n",
    " • Binned age into categories.\n",
    "\n",
    " • Binned hours per week into categories.\n",
    "\n",
    " • Simplified Education.\n",
    "\n",
    " • Encoded Income column to numeric values(<=50K - 0, >50K -1)\n",
    " \n",
    " • Encoded Sex column to numeric values(Male - 0, Female - 1)\n"
   ]
  },
  {
   "cell_type": "markdown",
   "id": "9152c105",
   "metadata": {},
   "source": [
    "<h3 style='color:green'>Exploratory Data Analysis (Visualizations)</h3\n",
    "\n",
    "Various relationships were explored using visualizations \n",
    "\n",
    "1. **Gender wise income distribution**\n",
    "\n",
    "Significant majority earns less than 50,000. Out of 32561 candidates, only 7841 earn above 50,000.\n",
    "\n",
    "2. **Count by age and hours worked**\n",
    "\n",
    "Majority of the candidates belong to the Young adult (26-40 yo) category and work for 21-40 hours a week, some others clocking over 60 hours\n",
    "\n",
    "3. **Income by sex**\n",
    "\n",
    "Male tends to earn above 50k than the female. Only 1179 of 9592 Female candidates earn above 50k.\n",
    "\n",
    "4. **Work hour distribution**\n",
    "\n",
    "The median working hours is around 40 hours/week. The IQR is approximately between 35 to 45 hours.\n",
    "\n",
    "5. **Occupational status of high income earners**\n",
    "\n",
    "The highest earning occupation majorly consists of exec-managers, sale, craft-repair, adm-clerks, prof-speciality.\n",
    "\n",
    "6. **Age - Education - Income Analysis**\n",
    "\n",
    "Education directly correlates with Income, but the age and income does'nt show much correlation.\n",
    "\n",
    "7. **Multivariate Analysis of education, hours per week and income**\n",
    "\n",
    "People with higher education levels like Bachelor's, Master's, and Doctorate are mostly in the higher income group (earning more than 50K), Simply working more hours doesn’t guarantee higher income - education level seems to have a bigger impact. "
   ]
  },
  {
   "cell_type": "markdown",
   "id": "ab5f00da",
   "metadata": {},
   "source": [
    "<h3 style='color:green'>Conclusion</h3>\n",
    "\n",
    "Through this project, we learned:\n",
    "\n",
    "• How to clean and preprocess real-world datasets.\n",
    "\n",
    "• How to engineer new features for deeper analysis.\n",
    "\n",
    "• How to extract meaningful insights using visualizations.\n",
    "\n",
    "This project lays the foundation for future modeling and predictive analytics, like building a Machine Learning model to predict survival."
   ]
  }
 ],
 "metadata": {
  "language_info": {
   "name": "python"
  }
 },
 "nbformat": 4,
 "nbformat_minor": 5
}
